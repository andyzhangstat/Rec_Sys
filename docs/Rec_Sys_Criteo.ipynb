{
  "cells": [
    {
      "cell_type": "markdown",
      "id": "6f01ea8a",
      "metadata": {
        "id": "6f01ea8a"
      },
      "source": [
        "# CTR prediction for Criteo Ad Dataset using DeepFM"
      ]
    },
    {
      "cell_type": "code",
      "source": [
        "!pip install torch_rechub"
      ],
      "metadata": {
        "colab": {
          "base_uri": "https://localhost:8080/"
        },
        "id": "nKNJjHYmD25x",
        "outputId": "24197f21-c13d-44d2-e9ad-510a7e098a8e"
      },
      "id": "nKNJjHYmD25x",
      "execution_count": 1,
      "outputs": [
        {
          "output_type": "stream",
          "name": "stdout",
          "text": [
            "Collecting torch_rechub\n",
            "  Downloading torch-rechub-0.0.2.tar.gz (33 kB)\n",
            "  Preparing metadata (setup.py) ... \u001b[?25l\u001b[?25hdone\n",
            "Requirement already satisfied: numpy>=1.19.0 in /usr/local/lib/python3.10/dist-packages (from torch_rechub) (1.26.4)\n",
            "Requirement already satisfied: torch>=1.7.0 in /usr/local/lib/python3.10/dist-packages (from torch_rechub) (2.3.1+cu121)\n",
            "Requirement already satisfied: pandas>=1.0.5 in /usr/local/lib/python3.10/dist-packages (from torch_rechub) (2.1.4)\n",
            "Requirement already satisfied: tqdm>=4.64.0 in /usr/local/lib/python3.10/dist-packages (from torch_rechub) (4.66.5)\n",
            "Requirement already satisfied: scikit_learn>=0.23.2 in /usr/local/lib/python3.10/dist-packages (from torch_rechub) (1.3.2)\n",
            "Collecting annoy>=1.17.0 (from torch_rechub)\n",
            "  Downloading annoy-1.17.3.tar.gz (647 kB)\n",
            "\u001b[2K     \u001b[90m━━━━━━━━━━━━━━━━━━━━━━━━━━━━━━━━━━━━━━━━\u001b[0m \u001b[32m647.5/647.5 kB\u001b[0m \u001b[31m13.9 MB/s\u001b[0m eta \u001b[36m0:00:00\u001b[0m\n",
            "\u001b[?25h  Preparing metadata (setup.py) ... \u001b[?25l\u001b[?25hdone\n",
            "Requirement already satisfied: python-dateutil>=2.8.2 in /usr/local/lib/python3.10/dist-packages (from pandas>=1.0.5->torch_rechub) (2.8.2)\n",
            "Requirement already satisfied: pytz>=2020.1 in /usr/local/lib/python3.10/dist-packages (from pandas>=1.0.5->torch_rechub) (2024.1)\n",
            "Requirement already satisfied: tzdata>=2022.1 in /usr/local/lib/python3.10/dist-packages (from pandas>=1.0.5->torch_rechub) (2024.1)\n",
            "Requirement already satisfied: scipy>=1.5.0 in /usr/local/lib/python3.10/dist-packages (from scikit_learn>=0.23.2->torch_rechub) (1.13.1)\n",
            "Requirement already satisfied: joblib>=1.1.1 in /usr/local/lib/python3.10/dist-packages (from scikit_learn>=0.23.2->torch_rechub) (1.4.2)\n",
            "Requirement already satisfied: threadpoolctl>=2.0.0 in /usr/local/lib/python3.10/dist-packages (from scikit_learn>=0.23.2->torch_rechub) (3.5.0)\n",
            "Requirement already satisfied: filelock in /usr/local/lib/python3.10/dist-packages (from torch>=1.7.0->torch_rechub) (3.15.4)\n",
            "Requirement already satisfied: typing-extensions>=4.8.0 in /usr/local/lib/python3.10/dist-packages (from torch>=1.7.0->torch_rechub) (4.12.2)\n",
            "Requirement already satisfied: sympy in /usr/local/lib/python3.10/dist-packages (from torch>=1.7.0->torch_rechub) (1.13.1)\n",
            "Requirement already satisfied: networkx in /usr/local/lib/python3.10/dist-packages (from torch>=1.7.0->torch_rechub) (3.3)\n",
            "Requirement already satisfied: jinja2 in /usr/local/lib/python3.10/dist-packages (from torch>=1.7.0->torch_rechub) (3.1.4)\n",
            "Requirement already satisfied: fsspec in /usr/local/lib/python3.10/dist-packages (from torch>=1.7.0->torch_rechub) (2024.6.1)\n",
            "Collecting nvidia-cuda-nvrtc-cu12==12.1.105 (from torch>=1.7.0->torch_rechub)\n",
            "  Using cached nvidia_cuda_nvrtc_cu12-12.1.105-py3-none-manylinux1_x86_64.whl.metadata (1.5 kB)\n",
            "Collecting nvidia-cuda-runtime-cu12==12.1.105 (from torch>=1.7.0->torch_rechub)\n",
            "  Using cached nvidia_cuda_runtime_cu12-12.1.105-py3-none-manylinux1_x86_64.whl.metadata (1.5 kB)\n",
            "Collecting nvidia-cuda-cupti-cu12==12.1.105 (from torch>=1.7.0->torch_rechub)\n",
            "  Using cached nvidia_cuda_cupti_cu12-12.1.105-py3-none-manylinux1_x86_64.whl.metadata (1.6 kB)\n",
            "Collecting nvidia-cudnn-cu12==8.9.2.26 (from torch>=1.7.0->torch_rechub)\n",
            "  Using cached nvidia_cudnn_cu12-8.9.2.26-py3-none-manylinux1_x86_64.whl.metadata (1.6 kB)\n",
            "Collecting nvidia-cublas-cu12==12.1.3.1 (from torch>=1.7.0->torch_rechub)\n",
            "  Using cached nvidia_cublas_cu12-12.1.3.1-py3-none-manylinux1_x86_64.whl.metadata (1.5 kB)\n",
            "Collecting nvidia-cufft-cu12==11.0.2.54 (from torch>=1.7.0->torch_rechub)\n",
            "  Using cached nvidia_cufft_cu12-11.0.2.54-py3-none-manylinux1_x86_64.whl.metadata (1.5 kB)\n",
            "Collecting nvidia-curand-cu12==10.3.2.106 (from torch>=1.7.0->torch_rechub)\n",
            "  Using cached nvidia_curand_cu12-10.3.2.106-py3-none-manylinux1_x86_64.whl.metadata (1.5 kB)\n",
            "Collecting nvidia-cusolver-cu12==11.4.5.107 (from torch>=1.7.0->torch_rechub)\n",
            "  Using cached nvidia_cusolver_cu12-11.4.5.107-py3-none-manylinux1_x86_64.whl.metadata (1.6 kB)\n",
            "Collecting nvidia-cusparse-cu12==12.1.0.106 (from torch>=1.7.0->torch_rechub)\n",
            "  Using cached nvidia_cusparse_cu12-12.1.0.106-py3-none-manylinux1_x86_64.whl.metadata (1.6 kB)\n",
            "Collecting nvidia-nccl-cu12==2.20.5 (from torch>=1.7.0->torch_rechub)\n",
            "  Using cached nvidia_nccl_cu12-2.20.5-py3-none-manylinux2014_x86_64.whl.metadata (1.8 kB)\n",
            "Collecting nvidia-nvtx-cu12==12.1.105 (from torch>=1.7.0->torch_rechub)\n",
            "  Using cached nvidia_nvtx_cu12-12.1.105-py3-none-manylinux1_x86_64.whl.metadata (1.7 kB)\n",
            "Requirement already satisfied: triton==2.3.1 in /usr/local/lib/python3.10/dist-packages (from torch>=1.7.0->torch_rechub) (2.3.1)\n",
            "Collecting nvidia-nvjitlink-cu12 (from nvidia-cusolver-cu12==11.4.5.107->torch>=1.7.0->torch_rechub)\n",
            "  Using cached nvidia_nvjitlink_cu12-12.6.20-py3-none-manylinux2014_x86_64.whl.metadata (1.5 kB)\n",
            "Requirement already satisfied: six>=1.5 in /usr/local/lib/python3.10/dist-packages (from python-dateutil>=2.8.2->pandas>=1.0.5->torch_rechub) (1.16.0)\n",
            "Requirement already satisfied: MarkupSafe>=2.0 in /usr/local/lib/python3.10/dist-packages (from jinja2->torch>=1.7.0->torch_rechub) (2.1.5)\n",
            "Requirement already satisfied: mpmath<1.4,>=1.1.0 in /usr/local/lib/python3.10/dist-packages (from sympy->torch>=1.7.0->torch_rechub) (1.3.0)\n",
            "Using cached nvidia_cublas_cu12-12.1.3.1-py3-none-manylinux1_x86_64.whl (410.6 MB)\n",
            "Using cached nvidia_cuda_cupti_cu12-12.1.105-py3-none-manylinux1_x86_64.whl (14.1 MB)\n",
            "Using cached nvidia_cuda_nvrtc_cu12-12.1.105-py3-none-manylinux1_x86_64.whl (23.7 MB)\n",
            "Using cached nvidia_cuda_runtime_cu12-12.1.105-py3-none-manylinux1_x86_64.whl (823 kB)\n",
            "Using cached nvidia_cudnn_cu12-8.9.2.26-py3-none-manylinux1_x86_64.whl (731.7 MB)\n",
            "Using cached nvidia_cufft_cu12-11.0.2.54-py3-none-manylinux1_x86_64.whl (121.6 MB)\n",
            "Using cached nvidia_curand_cu12-10.3.2.106-py3-none-manylinux1_x86_64.whl (56.5 MB)\n",
            "Using cached nvidia_cusolver_cu12-11.4.5.107-py3-none-manylinux1_x86_64.whl (124.2 MB)\n",
            "Using cached nvidia_cusparse_cu12-12.1.0.106-py3-none-manylinux1_x86_64.whl (196.0 MB)\n",
            "Using cached nvidia_nccl_cu12-2.20.5-py3-none-manylinux2014_x86_64.whl (176.2 MB)\n",
            "Using cached nvidia_nvtx_cu12-12.1.105-py3-none-manylinux1_x86_64.whl (99 kB)\n",
            "Using cached nvidia_nvjitlink_cu12-12.6.20-py3-none-manylinux2014_x86_64.whl (19.7 MB)\n",
            "Building wheels for collected packages: torch_rechub, annoy\n",
            "  Building wheel for torch_rechub (setup.py) ... \u001b[?25l\u001b[?25hdone\n",
            "  Created wheel for torch_rechub: filename=torch_rechub-0.0.2-py3-none-any.whl size=52471 sha256=45b70136b1661a45344300312e04458f7f746721818f65e085caa4726f75e2ba\n",
            "  Stored in directory: /root/.cache/pip/wheels/9b/9a/b2/cc4fd0e7f1a85e71b0c106c3622b097cb4ba27184b7b3dac59\n",
            "  Building wheel for annoy (setup.py) ... \u001b[?25l\u001b[?25hdone\n",
            "  Created wheel for annoy: filename=annoy-1.17.3-cp310-cp310-linux_x86_64.whl size=552450 sha256=159fa4f9e6b00ec72ddcf20a11d67b4d519cf481bf943eb0d69b4e9e033f1e77\n",
            "  Stored in directory: /root/.cache/pip/wheels/64/8a/da/f714bcf46c5efdcfcac0559e63370c21abe961c48e3992465a\n",
            "Successfully built torch_rechub annoy\n",
            "Installing collected packages: annoy, nvidia-nvtx-cu12, nvidia-nvjitlink-cu12, nvidia-nccl-cu12, nvidia-curand-cu12, nvidia-cufft-cu12, nvidia-cuda-runtime-cu12, nvidia-cuda-nvrtc-cu12, nvidia-cuda-cupti-cu12, nvidia-cublas-cu12, nvidia-cusparse-cu12, nvidia-cudnn-cu12, nvidia-cusolver-cu12, torch_rechub\n",
            "Successfully installed annoy-1.17.3 nvidia-cublas-cu12-12.1.3.1 nvidia-cuda-cupti-cu12-12.1.105 nvidia-cuda-nvrtc-cu12-12.1.105 nvidia-cuda-runtime-cu12-12.1.105 nvidia-cudnn-cu12-8.9.2.26 nvidia-cufft-cu12-11.0.2.54 nvidia-curand-cu12-10.3.2.106 nvidia-cusolver-cu12-11.4.5.107 nvidia-cusparse-cu12-12.1.0.106 nvidia-nccl-cu12-2.20.5 nvidia-nvjitlink-cu12-12.6.20 nvidia-nvtx-cu12-12.1.105 torch_rechub-0.0.2\n"
          ]
        }
      ]
    },
    {
      "cell_type": "code",
      "execution_count": 2,
      "id": "2df52b38",
      "metadata": {
        "id": "2df52b38"
      },
      "outputs": [],
      "source": [
        "import warnings\n",
        "\n",
        "# Suppress all warnings\n",
        "warnings.filterwarnings('ignore')"
      ]
    },
    {
      "cell_type": "code",
      "execution_count": 3,
      "id": "6d63b81c",
      "metadata": {
        "colab": {
          "base_uri": "https://localhost:8080/"
        },
        "id": "6d63b81c",
        "outputId": "c22a3d8a-8ac3-4a97-e0d0-42f6edbbaff3"
      },
      "outputs": [
        {
          "output_type": "execute_result",
          "data": {
            "text/plain": [
              "<torch._C.Generator at 0x7cda01f3ae70>"
            ]
          },
          "metadata": {},
          "execution_count": 3
        }
      ],
      "source": [
        "import numpy as np\n",
        "import pandas as pd\n",
        "import torch\n",
        "from torch_rechub.models.ranking import WideDeep, DeepFM, DCN\n",
        "from torch_rechub.trainers import CTRTrainer\n",
        "from torch_rechub.basic.features import DenseFeature, SparseFeature\n",
        "from torch_rechub.utils.data import DataGenerator\n",
        "from tqdm import tqdm\n",
        "from sklearn.preprocessing import MinMaxScaler, LabelEncoder\n",
        "torch.manual_seed(2024)"
      ]
    },
    {
      "cell_type": "markdown",
      "id": "44a036c1",
      "metadata": {
        "id": "44a036c1"
      },
      "source": [
        "### dataset\n",
        "This dataset is an online advertising dataset released by Criteo Labs. It contains millions of click feedback records from displayed ads, which can be used as a benchmark for Click-Through Rate (CTR) prediction.\n",
        "\n",
        "The dataset includes 40 features, with the first column serving as the label where a value of 1 indicates a clicked ad, and 0 indicates an unclicked ad. The other features consist of 13 dense features and 26 sparse features."
      ]
    },
    {
      "cell_type": "code",
      "source": [
        "from google.colab import drive\n",
        "drive.mount('/content/drive')"
      ],
      "metadata": {
        "colab": {
          "base_uri": "https://localhost:8080/"
        },
        "id": "QqdXnRr0EeHR",
        "outputId": "ad64038c-1a3b-4678-c357-54b5bc069119"
      },
      "id": "QqdXnRr0EeHR",
      "execution_count": 4,
      "outputs": [
        {
          "output_type": "stream",
          "name": "stdout",
          "text": [
            "Mounted at /content/drive\n"
          ]
        }
      ]
    },
    {
      "cell_type": "code",
      "source": [
        "data_path='/content/drive/MyDrive/Colab Notebooks/criteo_sample.csv'\n"
      ],
      "metadata": {
        "id": "UBGNM_jZEgs8"
      },
      "id": "UBGNM_jZEgs8",
      "execution_count": 5,
      "outputs": []
    },
    {
      "cell_type": "code",
      "execution_count": 6,
      "id": "f2fad7ad",
      "metadata": {
        "colab": {
          "base_uri": "https://localhost:8080/",
          "height": 256
        },
        "id": "f2fad7ad",
        "outputId": "96a58f07-5dbf-4e74-9760-6f37f899b8f5"
      },
      "outputs": [
        {
          "output_type": "execute_result",
          "data": {
            "text/plain": [
              "   label    I1   I2     I3    I4      I5     I6    I7    I8     I9  ...  \\\n",
              "0      0   0.0    0  104.0  27.0  1990.0  142.0   4.0  32.0   37.0  ...   \n",
              "1      0   0.0   -1   63.0  40.0  1470.0   61.0   4.0  37.0   46.0  ...   \n",
              "2      0   0.0  370    4.0   1.0  1787.0   65.0  14.0  25.0  489.0  ...   \n",
              "3      1  19.0   10   30.0  10.0     1.0    3.0  33.0  47.0  126.0  ...   \n",
              "4      0   0.0    0   36.0  22.0  4684.0  217.0   9.0  35.0  135.0  ...   \n",
              "\n",
              "        C17       C18       C19       C20       C21  C22       C23       C24  \\\n",
              "0  e5ba7672  25c88e42  21ddcdc9  b1252a9d  0e8585d2  NaN  32c7478e  0d4a6d1a   \n",
              "1  e5ba7672  d3303ea5  21ddcdc9  b1252a9d  7633c7c8  NaN  32c7478e  17f458f7   \n",
              "2  3486227d  642f2610  55dd3565  b1252a9d  5c8dc711  NaN  423fab69  45ab94c8   \n",
              "3  e5ba7672  a78bd508  21ddcdc9  5840adea  c2a93b37  NaN  32c7478e  1793a828   \n",
              "4  e5ba7672  7ce63c71       NaN       NaN  af5dc647  NaN  dbb486d7  1793a828   \n",
              "\n",
              "        C25       C26  \n",
              "0  001f3601  92c878de  \n",
              "1  001f3601  71236095  \n",
              "2  2bf691b1  c84c4aec  \n",
              "3  e8b83407  2fede552  \n",
              "4       NaN       NaN  \n",
              "\n",
              "[5 rows x 40 columns]"
            ],
            "text/html": [
              "\n",
              "  <div id=\"df-d678857d-1765-4661-87ab-3976b76baefc\" class=\"colab-df-container\">\n",
              "    <div>\n",
              "<style scoped>\n",
              "    .dataframe tbody tr th:only-of-type {\n",
              "        vertical-align: middle;\n",
              "    }\n",
              "\n",
              "    .dataframe tbody tr th {\n",
              "        vertical-align: top;\n",
              "    }\n",
              "\n",
              "    .dataframe thead th {\n",
              "        text-align: right;\n",
              "    }\n",
              "</style>\n",
              "<table border=\"1\" class=\"dataframe\">\n",
              "  <thead>\n",
              "    <tr style=\"text-align: right;\">\n",
              "      <th></th>\n",
              "      <th>label</th>\n",
              "      <th>I1</th>\n",
              "      <th>I2</th>\n",
              "      <th>I3</th>\n",
              "      <th>I4</th>\n",
              "      <th>I5</th>\n",
              "      <th>I6</th>\n",
              "      <th>I7</th>\n",
              "      <th>I8</th>\n",
              "      <th>I9</th>\n",
              "      <th>...</th>\n",
              "      <th>C17</th>\n",
              "      <th>C18</th>\n",
              "      <th>C19</th>\n",
              "      <th>C20</th>\n",
              "      <th>C21</th>\n",
              "      <th>C22</th>\n",
              "      <th>C23</th>\n",
              "      <th>C24</th>\n",
              "      <th>C25</th>\n",
              "      <th>C26</th>\n",
              "    </tr>\n",
              "  </thead>\n",
              "  <tbody>\n",
              "    <tr>\n",
              "      <th>0</th>\n",
              "      <td>0</td>\n",
              "      <td>0.0</td>\n",
              "      <td>0</td>\n",
              "      <td>104.0</td>\n",
              "      <td>27.0</td>\n",
              "      <td>1990.0</td>\n",
              "      <td>142.0</td>\n",
              "      <td>4.0</td>\n",
              "      <td>32.0</td>\n",
              "      <td>37.0</td>\n",
              "      <td>...</td>\n",
              "      <td>e5ba7672</td>\n",
              "      <td>25c88e42</td>\n",
              "      <td>21ddcdc9</td>\n",
              "      <td>b1252a9d</td>\n",
              "      <td>0e8585d2</td>\n",
              "      <td>NaN</td>\n",
              "      <td>32c7478e</td>\n",
              "      <td>0d4a6d1a</td>\n",
              "      <td>001f3601</td>\n",
              "      <td>92c878de</td>\n",
              "    </tr>\n",
              "    <tr>\n",
              "      <th>1</th>\n",
              "      <td>0</td>\n",
              "      <td>0.0</td>\n",
              "      <td>-1</td>\n",
              "      <td>63.0</td>\n",
              "      <td>40.0</td>\n",
              "      <td>1470.0</td>\n",
              "      <td>61.0</td>\n",
              "      <td>4.0</td>\n",
              "      <td>37.0</td>\n",
              "      <td>46.0</td>\n",
              "      <td>...</td>\n",
              "      <td>e5ba7672</td>\n",
              "      <td>d3303ea5</td>\n",
              "      <td>21ddcdc9</td>\n",
              "      <td>b1252a9d</td>\n",
              "      <td>7633c7c8</td>\n",
              "      <td>NaN</td>\n",
              "      <td>32c7478e</td>\n",
              "      <td>17f458f7</td>\n",
              "      <td>001f3601</td>\n",
              "      <td>71236095</td>\n",
              "    </tr>\n",
              "    <tr>\n",
              "      <th>2</th>\n",
              "      <td>0</td>\n",
              "      <td>0.0</td>\n",
              "      <td>370</td>\n",
              "      <td>4.0</td>\n",
              "      <td>1.0</td>\n",
              "      <td>1787.0</td>\n",
              "      <td>65.0</td>\n",
              "      <td>14.0</td>\n",
              "      <td>25.0</td>\n",
              "      <td>489.0</td>\n",
              "      <td>...</td>\n",
              "      <td>3486227d</td>\n",
              "      <td>642f2610</td>\n",
              "      <td>55dd3565</td>\n",
              "      <td>b1252a9d</td>\n",
              "      <td>5c8dc711</td>\n",
              "      <td>NaN</td>\n",
              "      <td>423fab69</td>\n",
              "      <td>45ab94c8</td>\n",
              "      <td>2bf691b1</td>\n",
              "      <td>c84c4aec</td>\n",
              "    </tr>\n",
              "    <tr>\n",
              "      <th>3</th>\n",
              "      <td>1</td>\n",
              "      <td>19.0</td>\n",
              "      <td>10</td>\n",
              "      <td>30.0</td>\n",
              "      <td>10.0</td>\n",
              "      <td>1.0</td>\n",
              "      <td>3.0</td>\n",
              "      <td>33.0</td>\n",
              "      <td>47.0</td>\n",
              "      <td>126.0</td>\n",
              "      <td>...</td>\n",
              "      <td>e5ba7672</td>\n",
              "      <td>a78bd508</td>\n",
              "      <td>21ddcdc9</td>\n",
              "      <td>5840adea</td>\n",
              "      <td>c2a93b37</td>\n",
              "      <td>NaN</td>\n",
              "      <td>32c7478e</td>\n",
              "      <td>1793a828</td>\n",
              "      <td>e8b83407</td>\n",
              "      <td>2fede552</td>\n",
              "    </tr>\n",
              "    <tr>\n",
              "      <th>4</th>\n",
              "      <td>0</td>\n",
              "      <td>0.0</td>\n",
              "      <td>0</td>\n",
              "      <td>36.0</td>\n",
              "      <td>22.0</td>\n",
              "      <td>4684.0</td>\n",
              "      <td>217.0</td>\n",
              "      <td>9.0</td>\n",
              "      <td>35.0</td>\n",
              "      <td>135.0</td>\n",
              "      <td>...</td>\n",
              "      <td>e5ba7672</td>\n",
              "      <td>7ce63c71</td>\n",
              "      <td>NaN</td>\n",
              "      <td>NaN</td>\n",
              "      <td>af5dc647</td>\n",
              "      <td>NaN</td>\n",
              "      <td>dbb486d7</td>\n",
              "      <td>1793a828</td>\n",
              "      <td>NaN</td>\n",
              "      <td>NaN</td>\n",
              "    </tr>\n",
              "  </tbody>\n",
              "</table>\n",
              "<p>5 rows × 40 columns</p>\n",
              "</div>\n",
              "    <div class=\"colab-df-buttons\">\n",
              "\n",
              "  <div class=\"colab-df-container\">\n",
              "    <button class=\"colab-df-convert\" onclick=\"convertToInteractive('df-d678857d-1765-4661-87ab-3976b76baefc')\"\n",
              "            title=\"Convert this dataframe to an interactive table.\"\n",
              "            style=\"display:none;\">\n",
              "\n",
              "  <svg xmlns=\"http://www.w3.org/2000/svg\" height=\"24px\" viewBox=\"0 -960 960 960\">\n",
              "    <path d=\"M120-120v-720h720v720H120Zm60-500h600v-160H180v160Zm220 220h160v-160H400v160Zm0 220h160v-160H400v160ZM180-400h160v-160H180v160Zm440 0h160v-160H620v160ZM180-180h160v-160H180v160Zm440 0h160v-160H620v160Z\"/>\n",
              "  </svg>\n",
              "    </button>\n",
              "\n",
              "  <style>\n",
              "    .colab-df-container {\n",
              "      display:flex;\n",
              "      gap: 12px;\n",
              "    }\n",
              "\n",
              "    .colab-df-convert {\n",
              "      background-color: #E8F0FE;\n",
              "      border: none;\n",
              "      border-radius: 50%;\n",
              "      cursor: pointer;\n",
              "      display: none;\n",
              "      fill: #1967D2;\n",
              "      height: 32px;\n",
              "      padding: 0 0 0 0;\n",
              "      width: 32px;\n",
              "    }\n",
              "\n",
              "    .colab-df-convert:hover {\n",
              "      background-color: #E2EBFA;\n",
              "      box-shadow: 0px 1px 2px rgba(60, 64, 67, 0.3), 0px 1px 3px 1px rgba(60, 64, 67, 0.15);\n",
              "      fill: #174EA6;\n",
              "    }\n",
              "\n",
              "    .colab-df-buttons div {\n",
              "      margin-bottom: 4px;\n",
              "    }\n",
              "\n",
              "    [theme=dark] .colab-df-convert {\n",
              "      background-color: #3B4455;\n",
              "      fill: #D2E3FC;\n",
              "    }\n",
              "\n",
              "    [theme=dark] .colab-df-convert:hover {\n",
              "      background-color: #434B5C;\n",
              "      box-shadow: 0px 1px 3px 1px rgba(0, 0, 0, 0.15);\n",
              "      filter: drop-shadow(0px 1px 2px rgba(0, 0, 0, 0.3));\n",
              "      fill: #FFFFFF;\n",
              "    }\n",
              "  </style>\n",
              "\n",
              "    <script>\n",
              "      const buttonEl =\n",
              "        document.querySelector('#df-d678857d-1765-4661-87ab-3976b76baefc button.colab-df-convert');\n",
              "      buttonEl.style.display =\n",
              "        google.colab.kernel.accessAllowed ? 'block' : 'none';\n",
              "\n",
              "      async function convertToInteractive(key) {\n",
              "        const element = document.querySelector('#df-d678857d-1765-4661-87ab-3976b76baefc');\n",
              "        const dataTable =\n",
              "          await google.colab.kernel.invokeFunction('convertToInteractive',\n",
              "                                                    [key], {});\n",
              "        if (!dataTable) return;\n",
              "\n",
              "        const docLinkHtml = 'Like what you see? Visit the ' +\n",
              "          '<a target=\"_blank\" href=https://colab.research.google.com/notebooks/data_table.ipynb>data table notebook</a>'\n",
              "          + ' to learn more about interactive tables.';\n",
              "        element.innerHTML = '';\n",
              "        dataTable['output_type'] = 'display_data';\n",
              "        await google.colab.output.renderOutput(dataTable, element);\n",
              "        const docLink = document.createElement('div');\n",
              "        docLink.innerHTML = docLinkHtml;\n",
              "        element.appendChild(docLink);\n",
              "      }\n",
              "    </script>\n",
              "  </div>\n",
              "\n",
              "\n",
              "<div id=\"df-ee3fb57e-6dfb-4359-b51e-309fa59e9f60\">\n",
              "  <button class=\"colab-df-quickchart\" onclick=\"quickchart('df-ee3fb57e-6dfb-4359-b51e-309fa59e9f60')\"\n",
              "            title=\"Suggest charts\"\n",
              "            style=\"display:none;\">\n",
              "\n",
              "<svg xmlns=\"http://www.w3.org/2000/svg\" height=\"24px\"viewBox=\"0 0 24 24\"\n",
              "     width=\"24px\">\n",
              "    <g>\n",
              "        <path d=\"M19 3H5c-1.1 0-2 .9-2 2v14c0 1.1.9 2 2 2h14c1.1 0 2-.9 2-2V5c0-1.1-.9-2-2-2zM9 17H7v-7h2v7zm4 0h-2V7h2v10zm4 0h-2v-4h2v4z\"/>\n",
              "    </g>\n",
              "</svg>\n",
              "  </button>\n",
              "\n",
              "<style>\n",
              "  .colab-df-quickchart {\n",
              "      --bg-color: #E8F0FE;\n",
              "      --fill-color: #1967D2;\n",
              "      --hover-bg-color: #E2EBFA;\n",
              "      --hover-fill-color: #174EA6;\n",
              "      --disabled-fill-color: #AAA;\n",
              "      --disabled-bg-color: #DDD;\n",
              "  }\n",
              "\n",
              "  [theme=dark] .colab-df-quickchart {\n",
              "      --bg-color: #3B4455;\n",
              "      --fill-color: #D2E3FC;\n",
              "      --hover-bg-color: #434B5C;\n",
              "      --hover-fill-color: #FFFFFF;\n",
              "      --disabled-bg-color: #3B4455;\n",
              "      --disabled-fill-color: #666;\n",
              "  }\n",
              "\n",
              "  .colab-df-quickchart {\n",
              "    background-color: var(--bg-color);\n",
              "    border: none;\n",
              "    border-radius: 50%;\n",
              "    cursor: pointer;\n",
              "    display: none;\n",
              "    fill: var(--fill-color);\n",
              "    height: 32px;\n",
              "    padding: 0;\n",
              "    width: 32px;\n",
              "  }\n",
              "\n",
              "  .colab-df-quickchart:hover {\n",
              "    background-color: var(--hover-bg-color);\n",
              "    box-shadow: 0 1px 2px rgba(60, 64, 67, 0.3), 0 1px 3px 1px rgba(60, 64, 67, 0.15);\n",
              "    fill: var(--button-hover-fill-color);\n",
              "  }\n",
              "\n",
              "  .colab-df-quickchart-complete:disabled,\n",
              "  .colab-df-quickchart-complete:disabled:hover {\n",
              "    background-color: var(--disabled-bg-color);\n",
              "    fill: var(--disabled-fill-color);\n",
              "    box-shadow: none;\n",
              "  }\n",
              "\n",
              "  .colab-df-spinner {\n",
              "    border: 2px solid var(--fill-color);\n",
              "    border-color: transparent;\n",
              "    border-bottom-color: var(--fill-color);\n",
              "    animation:\n",
              "      spin 1s steps(1) infinite;\n",
              "  }\n",
              "\n",
              "  @keyframes spin {\n",
              "    0% {\n",
              "      border-color: transparent;\n",
              "      border-bottom-color: var(--fill-color);\n",
              "      border-left-color: var(--fill-color);\n",
              "    }\n",
              "    20% {\n",
              "      border-color: transparent;\n",
              "      border-left-color: var(--fill-color);\n",
              "      border-top-color: var(--fill-color);\n",
              "    }\n",
              "    30% {\n",
              "      border-color: transparent;\n",
              "      border-left-color: var(--fill-color);\n",
              "      border-top-color: var(--fill-color);\n",
              "      border-right-color: var(--fill-color);\n",
              "    }\n",
              "    40% {\n",
              "      border-color: transparent;\n",
              "      border-right-color: var(--fill-color);\n",
              "      border-top-color: var(--fill-color);\n",
              "    }\n",
              "    60% {\n",
              "      border-color: transparent;\n",
              "      border-right-color: var(--fill-color);\n",
              "    }\n",
              "    80% {\n",
              "      border-color: transparent;\n",
              "      border-right-color: var(--fill-color);\n",
              "      border-bottom-color: var(--fill-color);\n",
              "    }\n",
              "    90% {\n",
              "      border-color: transparent;\n",
              "      border-bottom-color: var(--fill-color);\n",
              "    }\n",
              "  }\n",
              "</style>\n",
              "\n",
              "  <script>\n",
              "    async function quickchart(key) {\n",
              "      const quickchartButtonEl =\n",
              "        document.querySelector('#' + key + ' button');\n",
              "      quickchartButtonEl.disabled = true;  // To prevent multiple clicks.\n",
              "      quickchartButtonEl.classList.add('colab-df-spinner');\n",
              "      try {\n",
              "        const charts = await google.colab.kernel.invokeFunction(\n",
              "            'suggestCharts', [key], {});\n",
              "      } catch (error) {\n",
              "        console.error('Error during call to suggestCharts:', error);\n",
              "      }\n",
              "      quickchartButtonEl.classList.remove('colab-df-spinner');\n",
              "      quickchartButtonEl.classList.add('colab-df-quickchart-complete');\n",
              "    }\n",
              "    (() => {\n",
              "      let quickchartButtonEl =\n",
              "        document.querySelector('#df-ee3fb57e-6dfb-4359-b51e-309fa59e9f60 button');\n",
              "      quickchartButtonEl.style.display =\n",
              "        google.colab.kernel.accessAllowed ? 'block' : 'none';\n",
              "    })();\n",
              "  </script>\n",
              "</div>\n",
              "\n",
              "    </div>\n",
              "  </div>\n"
            ],
            "application/vnd.google.colaboratory.intrinsic+json": {
              "type": "dataframe",
              "variable_name": "data"
            }
          },
          "metadata": {},
          "execution_count": 6
        }
      ],
      "source": [
        "data = pd.read_csv(data_path)\n",
        "data.head()"
      ]
    },
    {
      "cell_type": "code",
      "execution_count": 7,
      "id": "5aa6ad43",
      "metadata": {
        "colab": {
          "base_uri": "https://localhost:8080/"
        },
        "id": "5aa6ad43",
        "outputId": "222db7b0-dde4-4d57-f77b-a8e002390e2f"
      },
      "outputs": [
        {
          "output_type": "execute_result",
          "data": {
            "text/plain": [
              "(115, 40)"
            ]
          },
          "metadata": {},
          "execution_count": 7
        }
      ],
      "source": [
        "data.shape"
      ]
    },
    {
      "cell_type": "markdown",
      "id": "10bac72a",
      "metadata": {
        "id": "10bac72a"
      },
      "source": [
        "### feature engineering\n",
        "\n",
        "- Dense Features: Numerical features, such as salary and age. Two operations are performed on dense features:\n",
        "  - MinMaxScaler normalization: This scales the values to be within the range [0,1].\n",
        "  - Discretization: The features are converted into new sparse features.\n",
        "  \n",
        "- Sparse Features: Categorical features, such as gender and education level. Sparse features are directly encoded using a LabelEncoder, which maps the original categorical strings to numerical values. In the model, an embedding vector is generated for each value."
      ]
    },
    {
      "cell_type": "code",
      "execution_count": 8,
      "id": "887f8e25",
      "metadata": {
        "id": "887f8e25"
      },
      "outputs": [],
      "source": [
        "# separate dense and sparse features\n",
        "dense_cols= [f for f in data.columns.tolist() if f[0] == \"I\"]\n",
        "sparse_cols = [f for f in data.columns.tolist() if f[0] == \"C\"]\n",
        "\n",
        "# fill in missingness\n",
        "data[dense_cols] = data[dense_cols].fillna(0)\n",
        "data[sparse_cols] = data[sparse_cols].fillna('-996')"
      ]
    },
    {
      "cell_type": "code",
      "execution_count": 9,
      "id": "c23fa78f",
      "metadata": {
        "colab": {
          "base_uri": "https://localhost:8080/"
        },
        "id": "c23fa78f",
        "outputId": "11975f18-c824-4ffe-f1ab-638d48a65c57"
      },
      "outputs": [
        {
          "output_type": "execute_result",
          "data": {
            "text/plain": [
              "(13, 26)"
            ]
          },
          "metadata": {},
          "execution_count": 9
        }
      ],
      "source": [
        "len(dense_cols),len(sparse_cols)"
      ]
    },
    {
      "cell_type": "code",
      "execution_count": 10,
      "id": "d3f5b683",
      "metadata": {
        "colab": {
          "base_uri": "https://localhost:8080/"
        },
        "id": "d3f5b683",
        "outputId": "0de6991e-c8fb-4684-bdc1-9ff8b4970215"
      },
      "outputs": [
        {
          "output_type": "stream",
          "name": "stderr",
          "text": [
            "100%|██████████| 13/13 [00:00<00:00, 1026.29it/s]\n"
          ]
        }
      ],
      "source": [
        "def convert_numeric_feature(val):\n",
        "    v = int(val)\n",
        "    if v > 2:\n",
        "        return int(np.log(v)**2)\n",
        "    else:\n",
        "        return v - 2\n",
        "\n",
        "for col in tqdm(dense_cols):\n",
        "    sparse_cols.append(col + \"_sparse\")\n",
        "    data[col + \"_sparse\"] = data[col].apply(lambda x: convert_numeric_feature(x))\n",
        "\n"
      ]
    },
    {
      "cell_type": "code",
      "execution_count": 11,
      "id": "f81bce6d",
      "metadata": {
        "id": "f81bce6d"
      },
      "outputs": [],
      "source": [
        "# for dense features\n",
        "scaler = MinMaxScaler()\n",
        "data[dense_cols] = scaler.fit_transform(data[dense_cols])"
      ]
    },
    {
      "cell_type": "code",
      "execution_count": 12,
      "id": "4e13373d",
      "metadata": {
        "colab": {
          "base_uri": "https://localhost:8080/"
        },
        "id": "4e13373d",
        "outputId": "310ceffc-157a-4ba8-c196-18bb7659e52d"
      },
      "outputs": [
        {
          "output_type": "stream",
          "name": "stderr",
          "text": [
            "100%|██████████| 39/39 [00:00<00:00, 3144.10it/s]\n"
          ]
        }
      ],
      "source": [
        "# for sparse features\n",
        "for col in tqdm(sparse_cols):\n",
        "    lbe = LabelEncoder()\n",
        "    data[col] = lbe.fit_transform(data[col])"
      ]
    },
    {
      "cell_type": "code",
      "execution_count": 13,
      "id": "26dc0ce3",
      "metadata": {
        "colab": {
          "base_uri": "https://localhost:8080/",
          "height": 256
        },
        "id": "26dc0ce3",
        "outputId": "386d0407-75c7-4be7-b4f0-a1d145a7861b"
      },
      "outputs": [
        {
          "output_type": "execute_result",
          "data": {
            "text/plain": [
              "   label        I1        I2        I3        I4        I5        I6  \\\n",
              "0      0  0.000000  0.000349  0.036945  0.310345  0.003922  0.137464   \n",
              "1      0  0.000000  0.000000  0.022380  0.459770  0.002898  0.059051   \n",
              "2      0  0.000000  0.129449  0.001421  0.011494  0.003522  0.062924   \n",
              "3      1  0.513514  0.003838  0.010657  0.114943  0.000002  0.002904   \n",
              "4      0  0.000000  0.000349  0.012789  0.252874  0.009233  0.210068   \n",
              "\n",
              "         I7        I8        I9  ...  I4_sparse  I5_sparse  I6_sparse  \\\n",
              "0  0.023256  0.653061  0.046077  ...         12         34         24   \n",
              "1  0.023256  0.755102  0.057285  ...         15         30         17   \n",
              "2  0.081395  0.510204  0.608966  ...          1         33         18   \n",
              "3  0.191860  0.959184  0.156912  ...          7          1          3   \n",
              "4  0.052326  0.714286  0.168120  ...         11         43         27   \n",
              "\n",
              "   I7_sparse  I8_sparse  I9_sparse  I10_sparse  I11_sparse  I12_sparse  \\\n",
              "0          3         14         15           0           1           0   \n",
              "1          3         15         16           0           1           0   \n",
              "2          8         12         34           0           5           0   \n",
              "3         14         16         24           3           4           0   \n",
              "4          6         14         25           0           1           0   \n",
              "\n",
              "   I13_sparse  \n",
              "0          12  \n",
              "1          15  \n",
              "2          12  \n",
              "3           2  \n",
              "4          16  \n",
              "\n",
              "[5 rows x 53 columns]"
            ],
            "text/html": [
              "\n",
              "  <div id=\"df-a46bd51c-a3d5-425d-9fcc-62568df9100e\" class=\"colab-df-container\">\n",
              "    <div>\n",
              "<style scoped>\n",
              "    .dataframe tbody tr th:only-of-type {\n",
              "        vertical-align: middle;\n",
              "    }\n",
              "\n",
              "    .dataframe tbody tr th {\n",
              "        vertical-align: top;\n",
              "    }\n",
              "\n",
              "    .dataframe thead th {\n",
              "        text-align: right;\n",
              "    }\n",
              "</style>\n",
              "<table border=\"1\" class=\"dataframe\">\n",
              "  <thead>\n",
              "    <tr style=\"text-align: right;\">\n",
              "      <th></th>\n",
              "      <th>label</th>\n",
              "      <th>I1</th>\n",
              "      <th>I2</th>\n",
              "      <th>I3</th>\n",
              "      <th>I4</th>\n",
              "      <th>I5</th>\n",
              "      <th>I6</th>\n",
              "      <th>I7</th>\n",
              "      <th>I8</th>\n",
              "      <th>I9</th>\n",
              "      <th>...</th>\n",
              "      <th>I4_sparse</th>\n",
              "      <th>I5_sparse</th>\n",
              "      <th>I6_sparse</th>\n",
              "      <th>I7_sparse</th>\n",
              "      <th>I8_sparse</th>\n",
              "      <th>I9_sparse</th>\n",
              "      <th>I10_sparse</th>\n",
              "      <th>I11_sparse</th>\n",
              "      <th>I12_sparse</th>\n",
              "      <th>I13_sparse</th>\n",
              "    </tr>\n",
              "  </thead>\n",
              "  <tbody>\n",
              "    <tr>\n",
              "      <th>0</th>\n",
              "      <td>0</td>\n",
              "      <td>0.000000</td>\n",
              "      <td>0.000349</td>\n",
              "      <td>0.036945</td>\n",
              "      <td>0.310345</td>\n",
              "      <td>0.003922</td>\n",
              "      <td>0.137464</td>\n",
              "      <td>0.023256</td>\n",
              "      <td>0.653061</td>\n",
              "      <td>0.046077</td>\n",
              "      <td>...</td>\n",
              "      <td>12</td>\n",
              "      <td>34</td>\n",
              "      <td>24</td>\n",
              "      <td>3</td>\n",
              "      <td>14</td>\n",
              "      <td>15</td>\n",
              "      <td>0</td>\n",
              "      <td>1</td>\n",
              "      <td>0</td>\n",
              "      <td>12</td>\n",
              "    </tr>\n",
              "    <tr>\n",
              "      <th>1</th>\n",
              "      <td>0</td>\n",
              "      <td>0.000000</td>\n",
              "      <td>0.000000</td>\n",
              "      <td>0.022380</td>\n",
              "      <td>0.459770</td>\n",
              "      <td>0.002898</td>\n",
              "      <td>0.059051</td>\n",
              "      <td>0.023256</td>\n",
              "      <td>0.755102</td>\n",
              "      <td>0.057285</td>\n",
              "      <td>...</td>\n",
              "      <td>15</td>\n",
              "      <td>30</td>\n",
              "      <td>17</td>\n",
              "      <td>3</td>\n",
              "      <td>15</td>\n",
              "      <td>16</td>\n",
              "      <td>0</td>\n",
              "      <td>1</td>\n",
              "      <td>0</td>\n",
              "      <td>15</td>\n",
              "    </tr>\n",
              "    <tr>\n",
              "      <th>2</th>\n",
              "      <td>0</td>\n",
              "      <td>0.000000</td>\n",
              "      <td>0.129449</td>\n",
              "      <td>0.001421</td>\n",
              "      <td>0.011494</td>\n",
              "      <td>0.003522</td>\n",
              "      <td>0.062924</td>\n",
              "      <td>0.081395</td>\n",
              "      <td>0.510204</td>\n",
              "      <td>0.608966</td>\n",
              "      <td>...</td>\n",
              "      <td>1</td>\n",
              "      <td>33</td>\n",
              "      <td>18</td>\n",
              "      <td>8</td>\n",
              "      <td>12</td>\n",
              "      <td>34</td>\n",
              "      <td>0</td>\n",
              "      <td>5</td>\n",
              "      <td>0</td>\n",
              "      <td>12</td>\n",
              "    </tr>\n",
              "    <tr>\n",
              "      <th>3</th>\n",
              "      <td>1</td>\n",
              "      <td>0.513514</td>\n",
              "      <td>0.003838</td>\n",
              "      <td>0.010657</td>\n",
              "      <td>0.114943</td>\n",
              "      <td>0.000002</td>\n",
              "      <td>0.002904</td>\n",
              "      <td>0.191860</td>\n",
              "      <td>0.959184</td>\n",
              "      <td>0.156912</td>\n",
              "      <td>...</td>\n",
              "      <td>7</td>\n",
              "      <td>1</td>\n",
              "      <td>3</td>\n",
              "      <td>14</td>\n",
              "      <td>16</td>\n",
              "      <td>24</td>\n",
              "      <td>3</td>\n",
              "      <td>4</td>\n",
              "      <td>0</td>\n",
              "      <td>2</td>\n",
              "    </tr>\n",
              "    <tr>\n",
              "      <th>4</th>\n",
              "      <td>0</td>\n",
              "      <td>0.000000</td>\n",
              "      <td>0.000349</td>\n",
              "      <td>0.012789</td>\n",
              "      <td>0.252874</td>\n",
              "      <td>0.009233</td>\n",
              "      <td>0.210068</td>\n",
              "      <td>0.052326</td>\n",
              "      <td>0.714286</td>\n",
              "      <td>0.168120</td>\n",
              "      <td>...</td>\n",
              "      <td>11</td>\n",
              "      <td>43</td>\n",
              "      <td>27</td>\n",
              "      <td>6</td>\n",
              "      <td>14</td>\n",
              "      <td>25</td>\n",
              "      <td>0</td>\n",
              "      <td>1</td>\n",
              "      <td>0</td>\n",
              "      <td>16</td>\n",
              "    </tr>\n",
              "  </tbody>\n",
              "</table>\n",
              "<p>5 rows × 53 columns</p>\n",
              "</div>\n",
              "    <div class=\"colab-df-buttons\">\n",
              "\n",
              "  <div class=\"colab-df-container\">\n",
              "    <button class=\"colab-df-convert\" onclick=\"convertToInteractive('df-a46bd51c-a3d5-425d-9fcc-62568df9100e')\"\n",
              "            title=\"Convert this dataframe to an interactive table.\"\n",
              "            style=\"display:none;\">\n",
              "\n",
              "  <svg xmlns=\"http://www.w3.org/2000/svg\" height=\"24px\" viewBox=\"0 -960 960 960\">\n",
              "    <path d=\"M120-120v-720h720v720H120Zm60-500h600v-160H180v160Zm220 220h160v-160H400v160Zm0 220h160v-160H400v160ZM180-400h160v-160H180v160Zm440 0h160v-160H620v160ZM180-180h160v-160H180v160Zm440 0h160v-160H620v160Z\"/>\n",
              "  </svg>\n",
              "    </button>\n",
              "\n",
              "  <style>\n",
              "    .colab-df-container {\n",
              "      display:flex;\n",
              "      gap: 12px;\n",
              "    }\n",
              "\n",
              "    .colab-df-convert {\n",
              "      background-color: #E8F0FE;\n",
              "      border: none;\n",
              "      border-radius: 50%;\n",
              "      cursor: pointer;\n",
              "      display: none;\n",
              "      fill: #1967D2;\n",
              "      height: 32px;\n",
              "      padding: 0 0 0 0;\n",
              "      width: 32px;\n",
              "    }\n",
              "\n",
              "    .colab-df-convert:hover {\n",
              "      background-color: #E2EBFA;\n",
              "      box-shadow: 0px 1px 2px rgba(60, 64, 67, 0.3), 0px 1px 3px 1px rgba(60, 64, 67, 0.15);\n",
              "      fill: #174EA6;\n",
              "    }\n",
              "\n",
              "    .colab-df-buttons div {\n",
              "      margin-bottom: 4px;\n",
              "    }\n",
              "\n",
              "    [theme=dark] .colab-df-convert {\n",
              "      background-color: #3B4455;\n",
              "      fill: #D2E3FC;\n",
              "    }\n",
              "\n",
              "    [theme=dark] .colab-df-convert:hover {\n",
              "      background-color: #434B5C;\n",
              "      box-shadow: 0px 1px 3px 1px rgba(0, 0, 0, 0.15);\n",
              "      filter: drop-shadow(0px 1px 2px rgba(0, 0, 0, 0.3));\n",
              "      fill: #FFFFFF;\n",
              "    }\n",
              "  </style>\n",
              "\n",
              "    <script>\n",
              "      const buttonEl =\n",
              "        document.querySelector('#df-a46bd51c-a3d5-425d-9fcc-62568df9100e button.colab-df-convert');\n",
              "      buttonEl.style.display =\n",
              "        google.colab.kernel.accessAllowed ? 'block' : 'none';\n",
              "\n",
              "      async function convertToInteractive(key) {\n",
              "        const element = document.querySelector('#df-a46bd51c-a3d5-425d-9fcc-62568df9100e');\n",
              "        const dataTable =\n",
              "          await google.colab.kernel.invokeFunction('convertToInteractive',\n",
              "                                                    [key], {});\n",
              "        if (!dataTable) return;\n",
              "\n",
              "        const docLinkHtml = 'Like what you see? Visit the ' +\n",
              "          '<a target=\"_blank\" href=https://colab.research.google.com/notebooks/data_table.ipynb>data table notebook</a>'\n",
              "          + ' to learn more about interactive tables.';\n",
              "        element.innerHTML = '';\n",
              "        dataTable['output_type'] = 'display_data';\n",
              "        await google.colab.output.renderOutput(dataTable, element);\n",
              "        const docLink = document.createElement('div');\n",
              "        docLink.innerHTML = docLinkHtml;\n",
              "        element.appendChild(docLink);\n",
              "      }\n",
              "    </script>\n",
              "  </div>\n",
              "\n",
              "\n",
              "<div id=\"df-59c81966-a248-4070-97ae-ebcc67af1d06\">\n",
              "  <button class=\"colab-df-quickchart\" onclick=\"quickchart('df-59c81966-a248-4070-97ae-ebcc67af1d06')\"\n",
              "            title=\"Suggest charts\"\n",
              "            style=\"display:none;\">\n",
              "\n",
              "<svg xmlns=\"http://www.w3.org/2000/svg\" height=\"24px\"viewBox=\"0 0 24 24\"\n",
              "     width=\"24px\">\n",
              "    <g>\n",
              "        <path d=\"M19 3H5c-1.1 0-2 .9-2 2v14c0 1.1.9 2 2 2h14c1.1 0 2-.9 2-2V5c0-1.1-.9-2-2-2zM9 17H7v-7h2v7zm4 0h-2V7h2v10zm4 0h-2v-4h2v4z\"/>\n",
              "    </g>\n",
              "</svg>\n",
              "  </button>\n",
              "\n",
              "<style>\n",
              "  .colab-df-quickchart {\n",
              "      --bg-color: #E8F0FE;\n",
              "      --fill-color: #1967D2;\n",
              "      --hover-bg-color: #E2EBFA;\n",
              "      --hover-fill-color: #174EA6;\n",
              "      --disabled-fill-color: #AAA;\n",
              "      --disabled-bg-color: #DDD;\n",
              "  }\n",
              "\n",
              "  [theme=dark] .colab-df-quickchart {\n",
              "      --bg-color: #3B4455;\n",
              "      --fill-color: #D2E3FC;\n",
              "      --hover-bg-color: #434B5C;\n",
              "      --hover-fill-color: #FFFFFF;\n",
              "      --disabled-bg-color: #3B4455;\n",
              "      --disabled-fill-color: #666;\n",
              "  }\n",
              "\n",
              "  .colab-df-quickchart {\n",
              "    background-color: var(--bg-color);\n",
              "    border: none;\n",
              "    border-radius: 50%;\n",
              "    cursor: pointer;\n",
              "    display: none;\n",
              "    fill: var(--fill-color);\n",
              "    height: 32px;\n",
              "    padding: 0;\n",
              "    width: 32px;\n",
              "  }\n",
              "\n",
              "  .colab-df-quickchart:hover {\n",
              "    background-color: var(--hover-bg-color);\n",
              "    box-shadow: 0 1px 2px rgba(60, 64, 67, 0.3), 0 1px 3px 1px rgba(60, 64, 67, 0.15);\n",
              "    fill: var(--button-hover-fill-color);\n",
              "  }\n",
              "\n",
              "  .colab-df-quickchart-complete:disabled,\n",
              "  .colab-df-quickchart-complete:disabled:hover {\n",
              "    background-color: var(--disabled-bg-color);\n",
              "    fill: var(--disabled-fill-color);\n",
              "    box-shadow: none;\n",
              "  }\n",
              "\n",
              "  .colab-df-spinner {\n",
              "    border: 2px solid var(--fill-color);\n",
              "    border-color: transparent;\n",
              "    border-bottom-color: var(--fill-color);\n",
              "    animation:\n",
              "      spin 1s steps(1) infinite;\n",
              "  }\n",
              "\n",
              "  @keyframes spin {\n",
              "    0% {\n",
              "      border-color: transparent;\n",
              "      border-bottom-color: var(--fill-color);\n",
              "      border-left-color: var(--fill-color);\n",
              "    }\n",
              "    20% {\n",
              "      border-color: transparent;\n",
              "      border-left-color: var(--fill-color);\n",
              "      border-top-color: var(--fill-color);\n",
              "    }\n",
              "    30% {\n",
              "      border-color: transparent;\n",
              "      border-left-color: var(--fill-color);\n",
              "      border-top-color: var(--fill-color);\n",
              "      border-right-color: var(--fill-color);\n",
              "    }\n",
              "    40% {\n",
              "      border-color: transparent;\n",
              "      border-right-color: var(--fill-color);\n",
              "      border-top-color: var(--fill-color);\n",
              "    }\n",
              "    60% {\n",
              "      border-color: transparent;\n",
              "      border-right-color: var(--fill-color);\n",
              "    }\n",
              "    80% {\n",
              "      border-color: transparent;\n",
              "      border-right-color: var(--fill-color);\n",
              "      border-bottom-color: var(--fill-color);\n",
              "    }\n",
              "    90% {\n",
              "      border-color: transparent;\n",
              "      border-bottom-color: var(--fill-color);\n",
              "    }\n",
              "  }\n",
              "</style>\n",
              "\n",
              "  <script>\n",
              "    async function quickchart(key) {\n",
              "      const quickchartButtonEl =\n",
              "        document.querySelector('#' + key + ' button');\n",
              "      quickchartButtonEl.disabled = true;  // To prevent multiple clicks.\n",
              "      quickchartButtonEl.classList.add('colab-df-spinner');\n",
              "      try {\n",
              "        const charts = await google.colab.kernel.invokeFunction(\n",
              "            'suggestCharts', [key], {});\n",
              "      } catch (error) {\n",
              "        console.error('Error during call to suggestCharts:', error);\n",
              "      }\n",
              "      quickchartButtonEl.classList.remove('colab-df-spinner');\n",
              "      quickchartButtonEl.classList.add('colab-df-quickchart-complete');\n",
              "    }\n",
              "    (() => {\n",
              "      let quickchartButtonEl =\n",
              "        document.querySelector('#df-59c81966-a248-4070-97ae-ebcc67af1d06 button');\n",
              "      quickchartButtonEl.style.display =\n",
              "        google.colab.kernel.accessAllowed ? 'block' : 'none';\n",
              "    })();\n",
              "  </script>\n",
              "</div>\n",
              "\n",
              "    </div>\n",
              "  </div>\n"
            ],
            "application/vnd.google.colaboratory.intrinsic+json": {
              "type": "dataframe",
              "variable_name": "data"
            }
          },
          "metadata": {},
          "execution_count": 13
        }
      ],
      "source": [
        "data.head()"
      ]
    },
    {
      "cell_type": "code",
      "execution_count": 14,
      "id": "220c9fff",
      "metadata": {
        "colab": {
          "base_uri": "https://localhost:8080/"
        },
        "id": "220c9fff",
        "outputId": "9e2fbcf2-3718-4ee5-b10c-520febf068a0"
      },
      "outputs": [
        {
          "output_type": "execute_result",
          "data": {
            "text/plain": [
              "(13, 39)"
            ]
          },
          "metadata": {},
          "execution_count": 14
        }
      ],
      "source": [
        "len(dense_cols), len(sparse_cols)"
      ]
    },
    {
      "cell_type": "code",
      "execution_count": 15,
      "id": "ea5186c5",
      "metadata": {
        "id": "ea5186c5"
      },
      "outputs": [],
      "source": [
        "dense_features = [DenseFeature(feature_name) for feature_name in dense_cols]\n",
        "sparse_features = [SparseFeature(feature_name, vocab_size=data[feature_name].nunique(), embed_dim=16) for feature_name in sparse_cols]\n",
        "y = data[\"label\"]\n",
        "del data[\"label\"]\n",
        "x = data"
      ]
    },
    {
      "cell_type": "code",
      "execution_count": 16,
      "id": "f7dbf659",
      "metadata": {
        "colab": {
          "base_uri": "https://localhost:8080/"
        },
        "id": "f7dbf659",
        "outputId": "9f0a8f93-a5ff-4bc5-cb7e-a455a6b7c4de"
      },
      "outputs": [
        {
          "output_type": "execute_result",
          "data": {
            "text/plain": [
              "((115, 52), (115,))"
            ]
          },
          "metadata": {},
          "execution_count": 16
        }
      ],
      "source": [
        "x.shape,y.shape"
      ]
    },
    {
      "cell_type": "code",
      "execution_count": 17,
      "id": "c5490237",
      "metadata": {
        "colab": {
          "base_uri": "https://localhost:8080/"
        },
        "id": "c5490237",
        "outputId": "6e951230-bb66-48dd-b864-9c35104de84b"
      },
      "outputs": [
        {
          "output_type": "stream",
          "name": "stdout",
          "text": [
            "the samples of train : val : test are  80 : 11 : 24\n"
          ]
        }
      ],
      "source": [
        "#split_ratio=[0.7,0.1] for train and val\n",
        "dg = DataGenerator(x, y)\n",
        "train_dataloader, val_dataloader, test_dataloader = dg.generate_dataloader(split_ratio=[0.7, 0.1], batch_size=256, num_workers=8)"
      ]
    },
    {
      "cell_type": "markdown",
      "id": "3e68c121",
      "metadata": {
        "id": "3e68c121"
      },
      "source": [
        "### train data using DeepFM"
      ]
    },
    {
      "cell_type": "code",
      "execution_count": 18,
      "id": "08997423",
      "metadata": {
        "id": "08997423"
      },
      "outputs": [],
      "source": [
        "from torch_rechub.models.ranking import DeepFM\n",
        "from torch_rechub.trainers import CTRTrainer\n",
        "\n",
        "model = DeepFM(\n",
        "        deep_features=dense_features+sparse_features,\n",
        "        fm_features=sparse_features,\n",
        "        mlp_params={\"dims\": [256, 128], \"dropout\": 0.2, \"activation\": \"relu\"},\n",
        "    )\n",
        "\n",
        "ctr_trainer = CTRTrainer(\n",
        "    model,\n",
        "    optimizer_params={\"lr\": 1e-4, \"weight_decay\": 1e-5},\n",
        "    n_epoch=1,\n",
        "    earlystop_patience=3,\n",
        "    device='cpu',\n",
        "    model_path='./',\n",
        ")\n"
      ]
    },
    {
      "cell_type": "code",
      "execution_count": 19,
      "id": "1395e09a",
      "metadata": {
        "colab": {
          "base_uri": "https://localhost:8080/"
        },
        "id": "1395e09a",
        "outputId": "64073002-26ff-4f05-d7e9-69fc28f68316"
      },
      "outputs": [
        {
          "output_type": "stream",
          "name": "stdout",
          "text": [
            "epoch: 0\n"
          ]
        },
        {
          "output_type": "stream",
          "name": "stderr",
          "text": [
            "train: 100%|██████████| 1/1 [00:00<00:00,  1.41it/s]\n",
            "validation: 100%|██████████| 1/1 [00:00<00:00,  1.76it/s]\n"
          ]
        },
        {
          "output_type": "stream",
          "name": "stdout",
          "text": [
            "epoch: 0 validation: auc: 0.6\n"
          ]
        },
        {
          "output_type": "stream",
          "name": "stderr",
          "text": [
            "validation: 100%|██████████| 1/1 [00:00<00:00,  1.83it/s]"
          ]
        },
        {
          "output_type": "stream",
          "name": "stdout",
          "text": [
            "test auc: 0.42105263157894735\n"
          ]
        },
        {
          "output_type": "stream",
          "name": "stderr",
          "text": [
            "\n"
          ]
        }
      ],
      "source": [
        "ctr_trainer.fit(train_dataloader, val_dataloader)\n",
        "\n",
        "auc = ctr_trainer.evaluate(ctr_trainer.model, test_dataloader)\n",
        "print(f'test auc: {auc}')"
      ]
    },
    {
      "cell_type": "markdown",
      "id": "fd8183a6",
      "metadata": {
        "id": "fd8183a6"
      },
      "source": [
        "### train data using WideDeep"
      ]
    },
    {
      "cell_type": "code",
      "execution_count": 20,
      "id": "U-qhhoaqzQkE",
      "metadata": {
        "id": "U-qhhoaqzQkE"
      },
      "outputs": [],
      "source": [
        "\n",
        "model = WideDeep(wide_features=dense_features, deep_features=sparse_features, mlp_params={\"dims\": [256, 128], \"dropout\": 0.2, \"activation\": \"relu\"})\n",
        "\n",
        "ctr_trainer = CTRTrainer(\n",
        "    model,\n",
        "    optimizer_params={\"lr\": 1e-4, \"weight_decay\": 1e-5},\n",
        "    n_epoch=1,\n",
        "    earlystop_patience=3,\n",
        "    device='cpu',\n",
        "    model_path='./',\n",
        ")\n"
      ]
    },
    {
      "cell_type": "code",
      "execution_count": 21,
      "id": "b358edc6",
      "metadata": {
        "colab": {
          "base_uri": "https://localhost:8080/"
        },
        "id": "b358edc6",
        "outputId": "f12c20cd-6bc6-433f-cfe6-c104f6a694a0"
      },
      "outputs": [
        {
          "output_type": "stream",
          "name": "stdout",
          "text": [
            "epoch: 0\n"
          ]
        },
        {
          "output_type": "stream",
          "name": "stderr",
          "text": [
            "train: 100%|██████████| 1/1 [00:00<00:00,  1.70it/s]\n",
            "validation: 100%|██████████| 1/1 [00:00<00:00,  1.78it/s]\n"
          ]
        },
        {
          "output_type": "stream",
          "name": "stdout",
          "text": [
            "epoch: 0 validation: auc: 0.4666666666666667\n"
          ]
        },
        {
          "output_type": "stream",
          "name": "stderr",
          "text": [
            "validation: 100%|██████████| 1/1 [00:00<00:00,  1.88it/s]"
          ]
        },
        {
          "output_type": "stream",
          "name": "stdout",
          "text": [
            "test auc: 0.24210526315789477\n"
          ]
        },
        {
          "output_type": "stream",
          "name": "stderr",
          "text": [
            "\n"
          ]
        }
      ],
      "source": [
        "ctr_trainer.fit(train_dataloader, val_dataloader)\n",
        "\n",
        "auc = ctr_trainer.evaluate(ctr_trainer.model, test_dataloader)\n",
        "print(f'test auc: {auc}')"
      ]
    },
    {
      "cell_type": "markdown",
      "id": "191a6184",
      "metadata": {
        "id": "191a6184"
      },
      "source": [
        "### train data using DCN"
      ]
    },
    {
      "cell_type": "code",
      "execution_count": 22,
      "id": "2417d1ea",
      "metadata": {
        "id": "2417d1ea"
      },
      "outputs": [],
      "source": [
        "model = DCN(features=dense_features + sparse_features, n_cross_layers=3, mlp_params={\"dims\": [256, 128]})\n",
        "\n",
        "ctr_trainer = CTRTrainer(\n",
        "    model,\n",
        "    optimizer_params={\"lr\": 1e-4, \"weight_decay\": 1e-5},\n",
        "    n_epoch=1,\n",
        "    earlystop_patience=3,\n",
        "    device='cpu',\n",
        "    model_path='./',\n",
        ")\n"
      ]
    },
    {
      "cell_type": "code",
      "execution_count": 23,
      "id": "f057161a",
      "metadata": {
        "colab": {
          "base_uri": "https://localhost:8080/"
        },
        "id": "f057161a",
        "outputId": "4be4b92c-56a7-4e2c-f44c-b2a6177ee126"
      },
      "outputs": [
        {
          "output_type": "stream",
          "name": "stdout",
          "text": [
            "epoch: 0\n"
          ]
        },
        {
          "output_type": "stream",
          "name": "stderr",
          "text": [
            "train: 100%|██████████| 1/1 [00:00<00:00,  1.89it/s]\n",
            "validation: 100%|██████████| 1/1 [00:00<00:00,  2.96it/s]\n"
          ]
        },
        {
          "output_type": "stream",
          "name": "stdout",
          "text": [
            "epoch: 0 validation: auc: 0.5333333333333333\n"
          ]
        },
        {
          "output_type": "stream",
          "name": "stderr",
          "text": [
            "validation: 100%|██████████| 1/1 [00:00<00:00,  2.83it/s]"
          ]
        },
        {
          "output_type": "stream",
          "name": "stdout",
          "text": [
            "test auc: 0.49473684210526314\n"
          ]
        },
        {
          "output_type": "stream",
          "name": "stderr",
          "text": [
            "\n"
          ]
        }
      ],
      "source": [
        "ctr_trainer.fit(train_dataloader, val_dataloader)\n",
        "\n",
        "auc = ctr_trainer.evaluate(ctr_trainer.model, test_dataloader)\n",
        "print(f'test auc: {auc}')"
      ]
    },
    {
      "cell_type": "code",
      "execution_count": 23,
      "id": "13db222c",
      "metadata": {
        "id": "13db222c"
      },
      "outputs": [],
      "source": []
    },
    {
      "cell_type": "code",
      "execution_count": 23,
      "id": "5ac85943",
      "metadata": {
        "id": "5ac85943"
      },
      "outputs": [],
      "source": []
    },
    {
      "cell_type": "code",
      "execution_count": 23,
      "id": "f7582e04",
      "metadata": {
        "id": "f7582e04"
      },
      "outputs": [],
      "source": []
    },
    {
      "cell_type": "markdown",
      "id": "3d4e6da6",
      "metadata": {
        "id": "3d4e6da6"
      },
      "source": [
        "### self-design model"
      ]
    },
    {
      "cell_type": "code",
      "execution_count": 24,
      "id": "bmE9ax7xTqzL",
      "metadata": {
        "id": "bmE9ax7xTqzL"
      },
      "outputs": [],
      "source": [
        "from torch_rechub.basic.layers import FM, MLP, LR, EmbeddingLayer"
      ]
    },
    {
      "cell_type": "code",
      "execution_count": 25,
      "id": "72qpQPVbS35e",
      "metadata": {
        "id": "72qpQPVbS35e"
      },
      "outputs": [],
      "source": [
        "class MyDeepFM(torch.nn.Module):\n",
        "  # deep_features,fm_features\n",
        "  # mlp_params\n",
        "  def __init__(self, deep_features, fm_features, mlp_params):\n",
        "    super().__init__()\n",
        "    self.deep_features = deep_features\n",
        "    self.fm_features = fm_features\n",
        "    self.deep_dims = sum([fea.embed_dim for fea in deep_features])\n",
        "    self.fm_dims = sum([fea.embed_dim for fea in fm_features])\n",
        "    #  first-order feature interaction\n",
        "    self.linear = LR(self.fm_dims)\n",
        "    #  second-order feature interaction\n",
        "    self.fm = FM(reduce_sum=True)\n",
        "    # embedding representations of features\n",
        "    self.embedding = EmbeddingLayer(deep_features + fm_features)\n",
        "    self.mlp = MLP(self.deep_dims, **mlp_params)\n",
        "\n",
        "  def forward(self, x):\n",
        "    input_deep = self.embedding(x, self.deep_features, squeeze_dim=True)  #[batch_size, deep_dims]\n",
        "    input_fm = self.embedding(x, self.fm_features, squeeze_dim=False)  #[batch_size, num_fields, embed_dim]\n",
        "\n",
        "    y_linear = self.linear(input_fm.flatten(start_dim=1))\n",
        "    y_fm = self.fm(input_fm)\n",
        "    y_deep = self.mlp(input_deep)  #[batch_size, 1]\n",
        "\n",
        "    y = y_linear + y_fm + y_deep\n",
        "\n",
        "    return torch.sigmoid(y.squeeze(1))"
      ]
    },
    {
      "cell_type": "code",
      "execution_count": 26,
      "id": "I4NOXPxhYT2E",
      "metadata": {
        "id": "I4NOXPxhYT2E"
      },
      "outputs": [],
      "source": [
        "model = MyDeepFM(\n",
        "        deep_features=dense_features+sparse_features,\n",
        "        fm_features=sparse_features,\n",
        "        mlp_params={\"dims\": [256, 128], \"dropout\": 0.2, \"activation\": \"relu\"},\n",
        "    )\n",
        "\n",
        "ctr_trainer = CTRTrainer(\n",
        "    model,\n",
        "    optimizer_params={\"lr\": 1e-4, \"weight_decay\": 1e-5},\n",
        "    n_epoch=1,\n",
        "    earlystop_patience=3,\n",
        "    device='cpu',\n",
        "    model_path='./',\n",
        ")\n"
      ]
    },
    {
      "cell_type": "code",
      "execution_count": 27,
      "id": "e0e3472d",
      "metadata": {
        "colab": {
          "base_uri": "https://localhost:8080/"
        },
        "id": "e0e3472d",
        "outputId": "5e7ddb9a-32fa-4982-895a-6a5ad4c47b55"
      },
      "outputs": [
        {
          "output_type": "stream",
          "name": "stdout",
          "text": [
            "epoch: 0\n"
          ]
        },
        {
          "output_type": "stream",
          "name": "stderr",
          "text": [
            "train: 100%|██████████| 1/1 [00:00<00:00,  2.56it/s]\n",
            "validation: 100%|██████████| 1/1 [00:00<00:00,  2.61it/s]\n"
          ]
        },
        {
          "output_type": "stream",
          "name": "stdout",
          "text": [
            "epoch: 0 validation: auc: 0.7000000000000001\n"
          ]
        },
        {
          "output_type": "stream",
          "name": "stderr",
          "text": [
            "validation: 100%|██████████| 1/1 [00:00<00:00,  2.76it/s]"
          ]
        },
        {
          "output_type": "stream",
          "name": "stdout",
          "text": [
            "test auc: 0.43157894736842106\n"
          ]
        },
        {
          "output_type": "stream",
          "name": "stderr",
          "text": [
            "\n"
          ]
        }
      ],
      "source": [
        "ctr_trainer.fit(train_dataloader, val_dataloader)\n",
        "\n",
        "auc = ctr_trainer.evaluate(ctr_trainer.model, test_dataloader)\n",
        "print(f'test auc: {auc}')"
      ]
    }
  ],
  "metadata": {
    "colab": {
      "provenance": []
    },
    "interpreter": {
      "hash": "2f0699014af7f4c9080a159fe6ab9f0087a283cb8192b31d41a414a088fd29ff"
    },
    "kernelspec": {
      "display_name": "Python 3",
      "name": "python3"
    },
    "language_info": {
      "codemirror_mode": {
        "name": "ipython",
        "version": 3
      },
      "file_extension": ".py",
      "mimetype": "text/x-python",
      "name": "python",
      "nbconvert_exporter": "python",
      "pygments_lexer": "ipython3",
      "version": "3.11.8"
    }
  },
  "nbformat": 4,
  "nbformat_minor": 5
}